{
  "cells": [
    {
      "attachments": {},
      "cell_type": "markdown",
      "metadata": {},
      "source": [
        "Data preprocessing"
      ]
    },
    {
      "cell_type": "code",
      "execution_count": null,
      "metadata": {},
      "outputs": [
        {
          "name": "stdout",
          "output_type": "stream",
          "text": [
            "/content/drive/MyDrive/asl_data/asl_data_PMM/asl_dataset\n",
            "/content/drive/MyDrive/asl_data/asl_data_PMM/asl_dataset/\n",
            "[1. 0. 0. 0. 0. 0. 0. 0. 0. 0. 0. 0. 0. 0. 0. 0. 0. 0. 0. 0. 0. 0. 0. 0.\n",
            " 0. 0. 0. 0. 0. 0. 0. 0. 0. 0. 0. 0.]\n"
          ]
        }
      ],
      "source": [
        "import keras\n",
        "from keras.datasets import mnist\n",
        "from keras.layers import Dense,Flatten,Dropout,Conv2D, MaxPooling2D\n",
        "from keras.layers import BatchNormalization\n",
        "from os import listdir\n",
        "from matplotlib import pyplot as plt\n",
        "import cv2\n",
        "import numpy as np\n",
        "from sklearn.model_selection import train_test_split\n",
        "filename=r'Path to ASL dataset'\n",
        "\n",
        "categories = {\n",
        "     \"0\":0,\n",
        "     \"1\":1,\n",
        "     \"2\":2,\n",
        "     \"3\":3,\n",
        "     \"4\":4,\n",
        "     \"5\":5,\n",
        "     \"6\":6,\n",
        "     \"7\":7,\n",
        "     \"8\":8,\n",
        "     \"9\":9,\n",
        "     \"a\":10,\n",
        "     \"b\":11,\n",
        "     \"c\":12,\n",
        "    \"d\":13,\n",
        "    \"e\":14,\n",
        "    \"f\":15,\n",
        "    \"g\":16,\n",
        "    \"h\":17,\n",
        "    \"i\":18,\n",
        "    \"j\":19,\n",
        "    \"k\":20,\n",
        "    \"l\":21,\n",
        "    \"m\":22,\n",
        "    \"n\":23,\n",
        "    \"o\":24,\n",
        "    \"p\":25,\n",
        "    \"q\":26,\n",
        "    \"r\":27,\n",
        "    \"s\":28,\n",
        "    \"t\":29,\n",
        "    \"u\":30,\n",
        "    \"v\":31 ,\n",
        "    \"w\":32,\n",
        "    \"x\":33,\n",
        "    \"y\":34,\n",
        "    \"z\":35,\n",
        "}\n",
        "def load_images(path):\n",
        "    data_list = list()\n",
        "    labels=list()\n",
        "    print(path) \n",
        "    x=path + '/'\n",
        "    print(x)         \n",
        "    for label in  sorted(listdir(path)):  \n",
        "        y=(x+label)\n",
        "        for filename in listdir(y):\n",
        "            pixels = plt.imread(y+ '/' + filename)\n",
        "            pixels=cv2.resize(pixels,(256,256))\n",
        "            data_list.append(pixels)\n",
        "            labels.append(categories[label])\n",
        "\n",
        "    return (data_list,labels)\n",
        "images,labels=load_images(filename)\n",
        "images=np.array(images,dtype='float32')/255.0\n",
        "labels=keras.utils.to_categorical(labels, 36)    \n",
        "print(labels[0])"
      ]
    },
    {
      "attachments": {},
      "cell_type": "markdown",
      "metadata": {},
      "source": [
        "Defining the model and training it"
      ]
    },
    {
      "cell_type": "code",
      "execution_count": 8,
      "metadata": {
        "colab": {
          "base_uri": "https://localhost:8080/"
        },
        "id": "uaEqh2O6VtEy",
        "outputId": "d768dd0c-4ad0-4037-ec90-871b29599c5f"
      },
      "outputs": [
        {
          "name": "stdout",
          "output_type": "stream",
          "text": [
            "Model: \"sequential_4\"\n",
            "_________________________________________________________________\n",
            " Layer (type)                Output Shape              Param #   \n",
            "=================================================================\n",
            " conv2d_31 (Conv2D)          (None, 127, 127, 8)       392       \n",
            "                                                                 \n",
            " conv2d_32 (Conv2D)          (None, 62, 62, 16)        2064      \n",
            "                                                                 \n",
            " conv2d_33 (Conv2D)          (None, 30, 30, 32)        8224      \n",
            "                                                                 \n",
            " max_pooling2d_8 (MaxPooling  (None, 15, 15, 32)       0         \n",
            " 2D)                                                             \n",
            "                                                                 \n",
            " batch_normalization_8 (Batc  (None, 15, 15, 32)       128       \n",
            " hNormalization)                                                 \n",
            "                                                                 \n",
            " conv2d_34 (Conv2D)          (None, 13, 13, 64)        18496     \n",
            "                                                                 \n",
            " conv2d_35 (Conv2D)          (None, 11, 11, 128)       73856     \n",
            "                                                                 \n",
            " conv2d_36 (Conv2D)          (None, 9, 9, 256)         295168    \n",
            "                                                                 \n",
            " max_pooling2d_9 (MaxPooling  (None, 4, 4, 256)        0         \n",
            " 2D)                                                             \n",
            "                                                                 \n",
            " batch_normalization_9 (Batc  (None, 4, 4, 256)        1024      \n",
            " hNormalization)                                                 \n",
            "                                                                 \n",
            " conv2d_37 (Conv2D)          (None, 2, 2, 512)         1180160   \n",
            "                                                                 \n",
            " flatten_4 (Flatten)         (None, 2048)              0         \n",
            "                                                                 \n",
            " dense_6 (Dense)             (None, 1024)              2098176   \n",
            "                                                                 \n",
            " dropout_2 (Dropout)         (None, 1024)              0         \n",
            "                                                                 \n",
            " dense_7 (Dense)             (None, 512)               524800    \n",
            "                                                                 \n",
            " dropout_3 (Dropout)         (None, 512)               0         \n",
            "                                                                 \n",
            " dense_8 (Dense)             (None, 36)                18468     \n",
            "                                                                 \n",
            "=================================================================\n",
            "Total params: 4,220,956\n",
            "Trainable params: 4,220,380\n",
            "Non-trainable params: 576\n",
            "_________________________________________________________________\n",
            "None\n",
            "Epoch 1/20\n",
            "252/252 [==============================] - 5s 14ms/step - loss: 1.4687 - accuracy: 0.5895 - val_loss: 4.3758 - val_accuracy: 0.0159\n",
            "Epoch 2/20\n",
            "252/252 [==============================] - 3s 14ms/step - loss: 0.4528 - accuracy: 0.8534 - val_loss: 1.4400 - val_accuracy: 0.5825\n",
            "Epoch 3/20\n",
            "252/252 [==============================] - 3s 13ms/step - loss: 0.2425 - accuracy: 0.9190 - val_loss: 0.2246 - val_accuracy: 0.9105\n",
            "Epoch 4/20\n",
            "252/252 [==============================] - 3s 12ms/step - loss: 0.1577 - accuracy: 0.9463 - val_loss: 0.1766 - val_accuracy: 0.9404\n",
            "Epoch 5/20\n",
            "252/252 [==============================] - 3s 10ms/step - loss: 0.1243 - accuracy: 0.9533 - val_loss: 0.2441 - val_accuracy: 0.9284\n",
            "Epoch 6/20\n",
            "252/252 [==============================] - 3s 10ms/step - loss: 0.0725 - accuracy: 0.9766 - val_loss: 0.1354 - val_accuracy: 0.9602\n",
            "Epoch 7/20\n",
            "252/252 [==============================] - 3s 14ms/step - loss: 0.0331 - accuracy: 0.9906 - val_loss: 0.1929 - val_accuracy: 0.9543\n",
            "Epoch 8/20\n",
            "252/252 [==============================] - 3s 10ms/step - loss: 0.0371 - accuracy: 0.9906 - val_loss: 0.3734 - val_accuracy: 0.9185\n",
            "Epoch 9/20\n",
            "252/252 [==============================] - 3s 10ms/step - loss: 0.1211 - accuracy: 0.9617 - val_loss: 0.2282 - val_accuracy: 0.9543\n",
            "Epoch 10/20\n",
            "252/252 [==============================] - 3s 12ms/step - loss: 0.0787 - accuracy: 0.9811 - val_loss: 0.1622 - val_accuracy: 0.9583\n",
            "Epoch 11/20\n",
            "252/252 [==============================] - 3s 12ms/step - loss: 0.0142 - accuracy: 0.9980 - val_loss: 0.2375 - val_accuracy: 0.9503\n",
            "Epoch 12/20\n",
            "252/252 [==============================] - 3s 12ms/step - loss: 0.1080 - accuracy: 0.9687 - val_loss: 0.2865 - val_accuracy: 0.9463\n",
            "Epoch 13/20\n",
            "252/252 [==============================] - 3s 10ms/step - loss: 0.0815 - accuracy: 0.9766 - val_loss: 0.2147 - val_accuracy: 0.9543\n",
            "Epoch 14/20\n",
            "252/252 [==============================] - 3s 10ms/step - loss: 0.0201 - accuracy: 0.9925 - val_loss: 0.4618 - val_accuracy: 0.9066\n",
            "Epoch 15/20\n",
            "252/252 [==============================] - 3s 10ms/step - loss: 0.0191 - accuracy: 0.9950 - val_loss: 0.3159 - val_accuracy: 0.9503\n",
            "Epoch 16/20\n",
            "252/252 [==============================] - 3s 13ms/step - loss: 0.0212 - accuracy: 0.9935 - val_loss: 0.2069 - val_accuracy: 0.9622\n",
            "Epoch 17/20\n",
            "252/252 [==============================] - 3s 10ms/step - loss: 0.0646 - accuracy: 0.9841 - val_loss: 0.3262 - val_accuracy: 0.9483\n",
            "Epoch 18/20\n",
            "252/252 [==============================] - 3s 11ms/step - loss: 0.0582 - accuracy: 0.9826 - val_loss: 0.4051 - val_accuracy: 0.9344\n",
            "Epoch 19/20\n",
            "252/252 [==============================] - 3s 10ms/step - loss: 0.1528 - accuracy: 0.9677 - val_loss: 0.1760 - val_accuracy: 0.9622\n",
            "Epoch 20/20\n",
            "252/252 [==============================] - 3s 11ms/step - loss: 0.0047 - accuracy: 0.9995 - val_loss: 0.1994 - val_accuracy: 0.9662\n"
          ]
        }
      ],
      "source": [
        "\n",
        "my_model=keras.Sequential()\n",
        "my_model.add(Conv2D(8,kernel_size=(4,4),strides=(2,2),activation='relu',padding='valid',input_shape=(256,256,3)))\n",
        "my_model.add(Conv2D(16,kernel_size=(4,4),strides=(2,2),activation='relu',padding='valid'))\n",
        "my_model.add(Conv2D(32,kernel_size=(4,4),strides=(2,2),activation='relu',padding='valid'))\n",
        "my_model.add(MaxPooling2D(pool_size=(2,2)))\n",
        "my_model.add(BatchNormalization())\n",
        "my_model.add(Conv2D(64,kernel_size=(3,3),activation='relu',padding='valid'))\n",
        "my_model.add(Conv2D(128,kernel_size=(3,3),activation='relu',padding='valid'))\n",
        "my_model.add(Conv2D(256,kernel_size=(3,3),activation='relu',padding='valid'))\n",
        "my_model.add(MaxPooling2D(pool_size=(2,2)))\n",
        "my_model.add(BatchNormalization())\n",
        "my_model.add(Conv2D(512,kernel_size=(3,3),activation='relu',padding='valid'))\n",
        "my_model.add(Flatten())\n",
        "my_model.add(Dense(1024,activation='relu'))\n",
        "my_model.add(Dropout(0.5))\n",
        "my_model.add(Dense(512,activation='relu'))\n",
        "my_model.add(Dropout(0.125))\n",
        "my_model.add(Dense(36,activation='softmax'))\n",
        "my_model.compile(optimizer=keras.optimizers.Adam(learning_rate=0.0002),loss=keras.losses.categorical_crossentropy,metrics='accuracy')\n",
        "print(my_model.summary())\n",
        "X_train, X_test, y_train, y_test = train_test_split(images, labels, test_size=0.2, random_state=3)\n",
        "\n",
        "final_res=my_model.fit(X_train, y_train, epochs=20, batch_size=8, validation_data=(X_test, y_test))"
      ]
    },
    {
      "attachments": {},
      "cell_type": "markdown",
      "metadata": {},
      "source": [
        "Saving the model"
      ]
    },
    {
      "cell_type": "code",
      "execution_count": 9,
      "metadata": {
        "id": "TtBJPbaxGRi5"
      },
      "outputs": [],
      "source": [
        "my_model.save('ASL-recognizer.h5')"
      ]
    },
    {
      "attachments": {},
      "cell_type": "markdown",
      "metadata": {},
      "source": [
        "Testing"
      ]
    },
    {
      "cell_type": "code",
      "execution_count": 26,
      "metadata": {
        "colab": {
          "base_uri": "https://localhost:8080/"
        },
        "id": "-j0TjjnrdXs_",
        "outputId": "16b4dd65-aa39-4f5e-ca9b-c6edea99051f"
      },
      "outputs": [
        {
          "name": "stdout",
          "output_type": "stream",
          "text": [
            "1/1 [==============================] - 0s 31ms/step\n"
          ]
        }
      ],
      "source": [
        "img=X_test[5]\n",
        "img=np.reshape(img,(1,256,256,3))\n",
        "p=my_model.predict(img)"
      ]
    },
    {
      "cell_type": "code",
      "execution_count": 28,
      "metadata": {
        "colab": {
          "base_uri": "https://localhost:8080/"
        },
        "id": "tCAcVYzGfqMs",
        "outputId": "0ff3e7a2-c2b5-4281-d3c7-4876ab5fee48"
      },
      "outputs": [
        {
          "name": "stdout",
          "output_type": "stream",
          "text": [
            "t\n"
          ]
        }
      ],
      "source": [
        "x=np.argmax(p)\n",
        "if x>9:\n",
        "  print(chr(87+x))\n",
        "else:\n",
        "  print(x)"
      ]
    },
    {
      "attachments": {},
      "cell_type": "markdown",
      "metadata": {
        "id": "28iZR1Gssr40"
      },
      "source": [
        "End of notebook"
      ]
    }
  ],
  "metadata": {
    "accelerator": "GPU",
    "colab": {
      "provenance": []
    },
    "gpuClass": "standard",
    "kernelspec": {
      "display_name": "Python 3",
      "name": "python3"
    },
    "language_info": {
      "name": "python"
    }
  },
  "nbformat": 4,
  "nbformat_minor": 0
}
